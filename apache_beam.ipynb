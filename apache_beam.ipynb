{
  "nbformat": 4,
  "nbformat_minor": 0,
  "metadata": {
    "colab": {
      "provenance": [],
      "collapsed_sections": [
        "IC4NDUbgALdU"
      ],
      "authorship_tag": "ABX9TyOuPJrA9vMTz8K2+zC7wH9A"
    },
    "kernelspec": {
      "name": "python3",
      "display_name": "Python 3"
    },
    "language_info": {
      "name": "python"
    }
  },
  "cells": [
    {
      "cell_type": "code",
      "execution_count": null,
      "metadata": {
        "id": "kIDCYtjT9uOg"
      },
      "outputs": [],
      "source": [
        "#pip install --upgrade pip\n",
        "#pip install apache_beam[interactive]\n",
        "#pip install apache_beam[gcp]\n",
        "#pip install gcsfs\n"
      ]
    },
    {
      "cell_type": "markdown",
      "source": [
        "#GCP"
      ],
      "metadata": {
        "id": "IC4NDUbgALdU"
      }
    },
    {
      "cell_type": "code",
      "source": [
        "from apache_beam.runners.pipeline_context import pipeline\n",
        "import apache_beam as beam\n",
        "import pandas as pd\n",
        "import os\n",
        "from apache_beam.options.pipeline_options import PipelineOptions\n",
        "from google.cloud import storage\n",
        "\n",
        "pipeline_options = {\n",
        "    'project':'sc-bc26-ed7',\n",
        "    'runner':'DataflowRunner',\n",
        "    'region':'us-east4',\n",
        "    'staging_location':'gs://projeto-final-equipe4/beam/staging/',\n",
        "    'temp_location':'gs://projeto-final-equipe4/beam/temp/',\n",
        "    'template_location':'projeto-final-equipe4/beam/models/modelo_batch'\n",
        "}\n",
        "\n",
        "serviceAccount = '/content/sc-bc26-ed7-adb0dc2607d9.json'\n",
        "os.environ['GOOGLE_APPLICATION_CREDENTIALS'] = serviceAccount\n",
        "\n",
        "pipeline_options = PipelineOptions.from_dictionary(pipeline_options)\n",
        "p1 = beam.Pipeline(options=pipeline_options)"
      ],
      "metadata": {
        "id": "CiCL5JD7-7TZ"
      },
      "execution_count": null,
      "outputs": []
    },
    {
      "cell_type": "markdown",
      "source": [
        "#FINAL"
      ],
      "metadata": {
        "id": "vUNg06jcAHx1"
      }
    },
    {
      "cell_type": "code",
      "source": [
        "from apache_beam.io.textio import WriteToText\n",
        "import apache_beam as beam\n",
        "from apache_beam.dataframe.io import read_csv\n",
        "import unidecode\n",
        "\n",
        "\n",
        "p1 = beam.Pipeline()\n",
        "\n",
        "colunas_bio = ['','regiao','uf','produto','volume_m3','data']\n",
        "colunas_preco = ['data','regiao','estado','produto','postosPes','uniMedida','mediaRev','desvioRev','menorRev','maiorRev','margemRev','coefRev','mediaDistr','desvioDistr','menorDistr','maiorDistr','coefDistr']\n",
        "\n",
        "def lista_dicionario(elemento, colunas):\n",
        "  return dict(zip(colunas, elemento))\n",
        "\n",
        "def trata_data(elemento):\n",
        "  # Recebe um dicionario e cria um novo campo com ANO-MES -  Retorna o mesmo dicionario com novo campo \n",
        "  elemento['ano_mes']= '-'.join(elemento['data'].split('-')[:2])\n",
        "  return elemento\n",
        "\n",
        "def chave_uf(elemento):\n",
        "#  Receber um dicionario -   Retorna uma tupla com estado e o elemento(UF, dicionario )\n",
        "  chave = elemento['uf']\n",
        "  return (chave, elemento)\n",
        "\n",
        "def volume(elemento):\n",
        "  #  Recebe um tupla ('SAO PAULO', [{},{}]) -   Retorna uma tupla ('SAO PAULO', 8.0)\n",
        "\n",
        "  uf, registros = elemento\n",
        "  for registros in registros:\n",
        "    yield (f\"{uf}-{registros['ano_mes']}\", float(registros['volume_m3']))\n",
        "\n",
        "def chave_estado(elemento):\n",
        "  chave = elemento['estado']\n",
        "  return (chave, elemento)\n",
        "\n",
        "def mediaRev(elemento):\n",
        "  estado, registros = elemento\n",
        "  for registros in registros:\n",
        "    yield (f\"{estado}-{registros['ano_mes']}\", float(registros['mediaRev']))\n",
        "\n",
        "def arredonda(elemento):\n",
        "  #Recebe uma tupla e retorna uma tupla com valor arredondado  \n",
        "  chave, valor = elemento\n",
        "  return (chave, round(valor,2))\n",
        "\n",
        "def filtra_campos_vazios(elemento):\n",
        "  #Remove elementos que tenham chaves vazias] -   Receber uam tupla e retorna a mesma dupla sem campos vazios   \n",
        "  chave, dados = elemento\n",
        "  if all([\n",
        "      dados['volume_m3'],\n",
        "      dados['Valor_MedRev']\n",
        "      ]):\n",
        "      return True\n",
        "  return False\n",
        "\n",
        "def descompactar_elementos(elemento):\n",
        "  #Receber uma tupla ('DISTRITO FEDERAL-2015-10', {'volume_m3': [4.0], 'Valor_MedRev': [11.67]})   Retorna uma tupla ('DISTRITO FEDERAL', '2015', '10', '4.0', '11.67')  \n",
        "  chave, dados = elemento\n",
        "  volume_m3 = dados['volume_m3'][0] #acessando o primeiro elemento dessa lista [0]\n",
        "  Valor_MedRev = dados['Valor_MedRev'][0]\n",
        "  uf, ano, mes = chave.split('-')\n",
        "  return uf, ano, mes, str(volume_m3), str(Valor_MedRev)  #transformar em str para poder usar o join posteriomente\n",
        "\n",
        "def preparar_csv(elemento, deliminator=';'):\n",
        "  #Recebe uma tupla e retorna uma string delimitada \"DISTRITO FEDERAL;2015;10;4.0;11.67\"\n",
        "  return f\"{deliminator}\".join(elemento)\n",
        "\n",
        "\n",
        "biocombustiveis = (\n",
        "    p1\n",
        "    |'Extrair do CSV'>> beam.io.ReadFromText('/content/arquivos_trat_dfbio_trat (2)', skip_header_lines=1)  \n",
        "    |'Separador de dados'>> beam.Map(lambda record: record.split(','))\n",
        "    |'Filtro por produto'>> beam.Filter(lambda record: str(record[3])== 'HIDRATADO')\n",
        "    |'Tranformar lista para dicionario'>>beam.Map(lista_dicionario, colunas_bio)\n",
        "    |'Criar Campo ano_mes'>>beam.Map(trata_data)\n",
        "    |'Criar chave pelo uf'>> beam.Map(chave_uf)\n",
        "    |'Agrupar pelo uf'>>beam.GroupByKey()\n",
        "    |'Descompactar volume'>>beam.FlatMap(volume)\n",
        "    |'Soma dos volumes pela chave'>> beam.CombinePerKey(sum)\n",
        "    |'Arredondar resultados'>>beam.Map(arredonda)\n",
        "    # |'Imprimir o resultado'>> beam.Map(print)\n",
        ")\n",
        "\n",
        "precos = (\n",
        "    p1\n",
        "    |'Extrair do CSV Dataset Preços'>> beam.io.ReadFromText('/content/arquivos_trat_precos (1).csv', skip_header_lines=1) \n",
        "    |'Separador de dados Dataset Preços'>> beam.Map(lambda record: record.split(',')) \n",
        "    |'Filtro por produto Dataset Preços'>> beam.Filter(lambda record: str(record[3])== 'ETANOL HIDRATADO')\n",
        "    |'Tranformar lista para dicionario Dataset Preços'>>beam.Map(lista_dicionario, colunas_preco)\n",
        "    |'Criar Campo ano_mes Dataset Preços'>>beam.Map(trata_data) \n",
        "    |'Criar chave pelo estado Dataset Preços'>> beam.Map(chave_estado)\n",
        "    |'Agrupar pelo estado Dataset Preços'>>beam.GroupByKey()\n",
        "    |'Descompactar volume Dataset Preços'>>beam.FlatMap(mediaRev)\n",
        "    |'Soma dos volumes pela chave Dataset Preços'>> beam.CombinePerKey(sum)\n",
        "    |'Arredondar resultados de preços'>>beam.Map(arredonda)\n",
        "    # |'Imprimir o resultado Dataset Preços'>> beam.Map(print)\n",
        ")\n",
        "\n",
        "resultado = (\n",
        "    ({'volume_m3':biocombustiveis,'Valor_MedRev':precos})\n",
        "    |'Mesclar pcollections'>>beam.CoGroupByKey()\n",
        "    |'Filtrar dados vazios'>>beam.Filter(filtra_campos_vazios)\n",
        "    |'Descompactar elementos'>>beam.Map(descompactar_elementos)\n",
        "    |'Preparar csv'>>beam.Map(preparar_csv)\n",
        "    # |'Imprimir o resultado da união'>> beam.Map(print)\n",
        ")\n",
        "\n",
        "resultado |'Criar arquivo CSV'>> WriteToText('resultado', file_name_suffix='.csv')\n",
        "\n",
        "p1.run()"
      ],
      "metadata": {
        "colab": {
          "base_uri": "https://localhost:8080/"
        },
        "id": "P4S26nVnnJz1",
        "outputId": "eb4df9eb-af20-4927-d181-8e8c49396fe1"
      },
      "execution_count": 89,
      "outputs": [
        {
          "output_type": "execute_result",
          "data": {
            "text/plain": [
              "<apache_beam.runners.portability.fn_api_runner.fn_runner.RunnerResult at 0x7f8e8a1812b0>"
            ]
          },
          "metadata": {},
          "execution_count": 89
        }
      ]
    },
    {
      "cell_type": "code",
      "source": [],
      "metadata": {
        "id": "i6IfnmR2zV4s"
      },
      "execution_count": null,
      "outputs": []
    },
    {
      "cell_type": "code",
      "source": [
        "#BUCKETS PARA PEGAR LINKS PARA UTILIZAR \n",
        "# gs://projeto-final-equipe4/arquivos_trat/dfbio_trat\n",
        "# gs://projeto-final-equipe4/arquivos_trat/precos.csv"
      ],
      "metadata": {
        "id": "H05yBbWpx17F"
      },
      "execution_count": null,
      "outputs": []
    },
    {
      "cell_type": "code",
      "source": [
        "##"
      ],
      "metadata": {
        "id": "Fhvbw22Z5Py-"
      },
      "execution_count": 78,
      "outputs": []
    },
    {
      "cell_type": "code",
      "source": [],
      "metadata": {
        "id": "bPiSpccDEimS"
      },
      "execution_count": null,
      "outputs": []
    }
  ]
}